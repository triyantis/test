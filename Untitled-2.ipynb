{
 "cells": [
  {
   "cell_type": "code",
   "execution_count": 1,
   "metadata": {},
   "outputs": [
    {
     "name": "stdout",
     "output_type": "stream",
     "text": [
      "Halo, saya mulai belajar Python!\n",
      "Nama saya uun dan usia saya 25\n",
      "Angka ke-0\n",
      "Angka ke-1\n",
      "Angka ke-2\n",
      "Angka ke-3\n",
      "Angka ke-4\n",
      "Daftar angka: [10, 20, 30, 40, 50]\n",
      "Angka pertama: 10\n",
      "Halo, uun! Selamat belajar Python.\n"
     ]
    }
   ],
   "source": [
    "# Menampilkan teks\n",
    "print(\"Halo, saya mulai belajar Python!\")\n",
    "\n",
    "# Variabel sederhana\n",
    "nama = \"uun\"\n",
    "usia = 25\n",
    "print(f\"Nama saya {nama} dan usia saya {usia}\")\n",
    "\n",
    "# Perulangan (Loop)\n",
    "for i in range(5):\n",
    "    print(f\"Angka ke-{i}\")\n",
    "\n",
    "# Menggunakan List\n",
    "angka = [10, 20, 30, 40, 50]\n",
    "print(\"Daftar angka:\", angka)\n",
    "print(\"Angka pertama:\", angka[0])\n",
    "\n",
    "# Membuat Fungsi\n",
    "def sapa(nama):\n",
    "    return f\"Halo, {nama}! Selamat belajar Python.\"\n",
    "\n",
    "print(sapa(\"uun\"))"
   ]
  }
 ],
 "metadata": {
  "kernelspec": {
   "display_name": "Python 3",
   "language": "python",
   "name": "python3"
  },
  "language_info": {
   "codemirror_mode": {
    "name": "ipython",
    "version": 3
   },
   "file_extension": ".py",
   "mimetype": "text/x-python",
   "name": "python",
   "nbconvert_exporter": "python",
   "pygments_lexer": "ipython3",
   "version": "3.9.10"
  }
 },
 "nbformat": 4,
 "nbformat_minor": 2
}
